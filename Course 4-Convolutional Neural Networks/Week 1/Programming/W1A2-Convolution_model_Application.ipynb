{
 "cells": [
  {
   "cell_type": "markdown",
   "metadata": {},
   "source": [
    "# Convolutional Neural Networks: Application\n",
    "\n",
    "Welcome to Course 4's second assignment! In this notebook, you will:\n",
    "\n",
    "- Create a mood classifer using the TF Keras Sequential API\n",
    "- Build a ConvNet to identify sign language digits using the TF Keras Functional API\n",
    "\n",
    "**After this assignment you will be able to:**\n",
    "\n",
    "- Build and train a ConvNet in TensorFlow for a __binary__ classification problem\n",
    "- Build and train a ConvNet in TensorFlow for a __multiclass__ classification problem\n",
    "- Explain different use cases for the Sequential and Functional APIs\n",
    "\n",
    "To complete this assignment, you should already be familiar with TensorFlow. If you are not, please refer back to the **TensorFlow Tutorial** of the third week of Course 2 (\"**Improving deep neural networks**\").\n",
    "\n",
    "## Important Note on Submission to the AutoGrader\n",
    "\n",
    "Before submitting your assignment to the AutoGrader, please make sure you are not doing the following:\n",
    "\n",
    "1. You have not added any _extra_ `print` statement(s) in the assignment.\n",
    "2. You have not added any _extra_ code cell(s) in the assignment.\n",
    "3. You have not changed any of the function parameters.\n",
    "4. You are not using any global variables inside your graded exercises. Unless specifically instructed to do so, please refrain from it and use the local variables instead.\n",
    "5. You are not changing the assignment code where it is not required, like creating _extra_ variables.\n",
    "\n",
    "If you do any of the following, you will get something like, `Grader Error: Grader feedback not found` (or similarly unexpected) error upon submitting your assignment. Before asking for help/debugging the errors in your assignment, check for these first. If this is the case, and you don't remember the changes you have made, you can get a fresh copy of the assignment by following these [instructions](https://www.coursera.org/learn/convolutional-neural-networks/supplement/DS4yP/h-ow-to-refresh-your-workspace)."
   ]
  },
  {
   "cell_type": "markdown",
   "metadata": {},
   "source": [
    "## Table of Contents\n",
    "\n",
    "- [1 - Packages](#1)\n",
    "    - [1.1 - Load the Data and Split the Data into Train/Test Sets](#1-1)\n",
    "- [2 - Layers in TF Keras](#2)\n",
    "- [3 - The Sequential API](#3)\n",
    "    - [3.1 - Create the Sequential Model](#3-1)\n",
    "        - [Exercise 1 - happyModel](#ex-1)\n",
    "    - [3.2 - Train and Evaluate the Model](#3-2)\n",
    "- [4 - The Functional API](#4)\n",
    "    - [4.1 - Load the SIGNS Dataset](#4-1)\n",
    "    - [4.2 - Split the Data into Train/Test Sets](#4-2)\n",
    "    - [4.3 - Forward Propagation](#4-3)\n",
    "        - [Exercise 2 - convolutional_model](#ex-2)\n",
    "    - [4.4 - Train the Model](#4-4)\n",
    "- [5 - History Object](#5)\n",
    "- [6 - Bibliography](#6)"
   ]
  },
  {
   "cell_type": "markdown",
   "metadata": {},
   "source": [
    "<a name='1'></a>\n",
    "## 1 - Packages\n",
    "\n",
    "As usual, begin by loading in the packages."
   ]
  },
  {
   "cell_type": "code",
   "execution_count": 1,
   "metadata": {
    "deletable": false,
    "editable": false
   },
   "outputs": [],
   "source": [
    "### v1.1"
   ]
  },
  {
   "cell_type": "code",
   "execution_count": 2,
   "metadata": {},
   "outputs": [],
   "source": [
    "import math\n",
    "import numpy as np\n",
    "import h5py\n",
    "import matplotlib.pyplot as plt\n",
    "from matplotlib.pyplot import imread\n",
    "import scipy\n",
    "from PIL import Image\n",
    "import pandas as pd\n",
    "import tensorflow as tf\n",
    "import tensorflow.keras.layers as tfl\n",
    "from tensorflow.python.framework import ops\n",
    "from cnn_utils import *\n",
    "from test_utils import summary, comparator\n",
    "\n",
    "%matplotlib inline\n",
    "np.random.seed(1)"
   ]
  },
  {
   "cell_type": "markdown",
   "metadata": {},
   "source": [
    "<a name='1-1'></a>\n",
    "### 1.1 - Load the Data and Split the Data into Train/Test Sets\n",
    "\n",
    "You'll be using the Happy House dataset for this part of the assignment, which contains images of peoples' faces. Your task will be to build a ConvNet that determines whether the people in the images are smiling or not -- because they only get to enter the house if they're smiling!  "
   ]
  },
  {
   "cell_type": "code",
   "execution_count": 3,
   "metadata": {},
   "outputs": [
    {
     "name": "stdout",
     "output_type": "stream",
     "text": [
      "number of training examples = 600\n",
      "number of test examples = 150\n",
      "X_train shape: (600, 64, 64, 3)\n",
      "Y_train shape: (600, 1)\n",
      "X_test shape: (150, 64, 64, 3)\n",
      "Y_test shape: (150, 1)\n"
     ]
    }
   ],
   "source": [
    "X_train_orig, Y_train_orig, X_test_orig, Y_test_orig, classes = load_happy_dataset()\n",
    "\n",
    "# Normalize image vectors\n",
    "X_train = X_train_orig/255.\n",
    "X_test = X_test_orig/255.\n",
    "\n",
    "# Reshape\n",
    "Y_train = Y_train_orig.T\n",
    "Y_test = Y_test_orig.T\n",
    "\n",
    "print (\"number of training examples = \" + str(X_train.shape[0]))\n",
    "print (\"number of test examples = \" + str(X_test.shape[0]))\n",
    "print (\"X_train shape: \" + str(X_train.shape))\n",
    "print (\"Y_train shape: \" + str(Y_train.shape))\n",
    "print (\"X_test shape: \" + str(X_test.shape))\n",
    "print (\"Y_test shape: \" + str(Y_test.shape))"
   ]
  },
  {
   "cell_type": "markdown",
   "metadata": {},
   "source": [
    "You can display the images contained in the dataset. Images are **64x64** pixels in RGB format (3 channels)."
   ]
  },
  {
   "cell_type": "code",
   "execution_count": 4,
   "metadata": {},
   "outputs": [
    {
     "data": {
      "image/png": "[encoded data removed]",
      "text/plain": [
       "<Figure size 432x288 with 1 Axes>"
      ]
     },
     "metadata": {
      "needs_background": "light"
     },
     "output_type": "display_data"
    }
   ],
   "source": [
    "index = 124\n",
    "plt.imshow(X_train_orig[index]) #display sample training image\n",
    "plt.show()"
   ]
  },
  {
   "cell_type": "markdown",
   "metadata": {},
   "source": [
    "<a name='2'></a>\n",
    "## 2 - Layers in TF Keras \n",
    "\n",
    "In the previous assignment, you created layers manually in numpy. In TF Keras, you don't have to write code directly to create layers. Rather, TF Keras has pre-defined layers you can use. \n",
    "\n",
    "When you create a layer in TF Keras, you are creating a function that takes some input and transforms it into an output you can reuse later. Nice and easy! "
   ]
  },
  {
   "cell_type": "markdown",
   "metadata": {},
   "source": [
    "<a name='3'></a>\n",
    "## 3 - The Sequential API\n",
    "\n",
    "In the previous assignment, you built helper functions using `numpy` to understand the mechanics behind convolutional neural networks. Most practical applications of deep learning today are built using programming frameworks, which have many built-in functions you can simply call. Keras is a high-level abstraction built on top of TensorFlow, which allows for even more simplified and optimized model creation and training. \n",
    "\n",
    "For the first part of this assignment, you'll create a model using TF Keras' Sequential API, which allows you to build layer by layer, and is ideal for building models where each layer has **exactly one** input tensor and **one** output tensor. \n",
    "\n",
    "As you'll see, using the Sequential API is simple and straightforward, but is only appropriate for simpler, more straightforward tasks. Later in this notebook you'll spend some time building with a more flexible, powerful alternative: the Functional API. \n",
    " "
   ]
  },
  {
   "cell_type": "markdown",
   "metadata": {},
   "source": [
    "<a name='3-1'></a>\n",
    "### 3.1 - Create the Sequential Model\n",
    "\n",
    "As mentioned earlier, the TensorFlow Keras Sequential API can be used to build simple models with layer operations that proceed in a sequential order. \n",
    "\n",
    "You can also add layers incrementally to a Sequential model with the `.add()` method, or remove them using the `.pop()` method, much like you would in a regular Python list.\n",
    "\n",
    "Actually, you can think of a Sequential model as behaving like a list of layers. Like Python lists, Sequential layers are ordered, and the order in which they are specified matters.  If your model is non-linear or contains layers with multiple inputs or outputs, a Sequential model wouldn't be the right choice!\n",
    "\n",
    "For any layer construction in Keras, you'll need to specify the input shape in advance. This is because in Keras, the shape of the weights is based on the shape of the inputs. The weights are only created when the model first sees some input data. Sequential models can be created by passing a list of layers to the Sequential constructor, like you will do in the next assignment.\n",
    "\n",
    "<a name='ex-1'></a>\n",
    "### Exercise 1 - happyModel\n",
    "\n",
    "Implement the `happyModel` function below to build the following model: `ZEROPAD2D -> CONV2D -> BATCHNORM -> RELU -> MAXPOOL -> FLATTEN -> DENSE`. Take help from [tf.keras.layers](https://www.tensorflow.org/api_docs/python/tf/keras/layers) \n",
    "\n",
    "Also, plug in the following parameters for all the steps:\n",
    "\n",
    " - [ZeroPadding2D](https://www.tensorflow.org/api_docs/python/tf/keras/layers/ZeroPadding2D): padding 3, input shape 64 x 64 x 3\n",
    " - [Conv2D](https://www.tensorflow.org/api_docs/python/tf/keras/layers/Conv2D): Use 32 7x7 filters, stride 1\n",
    " - [BatchNormalization](https://www.tensorflow.org/api_docs/python/tf/keras/layers/BatchNormalization): for axis 3\n",
    " - [ReLU](https://www.tensorflow.org/api_docs/python/tf/keras/layers/ReLU)\n",
    " - [MaxPool2D](https://www.tensorflow.org/api_docs/python/tf/keras/layers/MaxPool2D): Using default parameters\n",
    " - [Flatten](https://www.tensorflow.org/api_docs/python/tf/keras/layers/Flatten) the previous output.\n",
    " - Fully-connected ([Dense](https://www.tensorflow.org/api_docs/python/tf/keras/layers/Dense)) layer: Apply a fully connected layer with 1 neuron and a sigmoid activation. \n",
    " \n",
    " \n",
    " **Hint:**\n",
    " \n",
    " Use **tfl** as shorthand for **tensorflow.keras.layers**"
   ]
  },
  {
   "cell_type": "code",
   "execution_count": 5,
   "metadata": {
    "deletable": false,
    "nbgrader": {
     "cell_type": "code",
     "checksum": "95d28b191f257bdd5b70c7b8952559d5",
     "grade": false,
     "grade_id": "cell-0e56d3fc28b69aec",
     "locked": false,
     "schema_version": 3,
     "solution": true,
     "task": false
    }
   },
   "outputs": [],
   "source": [
    "# GRADED FUNCTION: happyModel\n",
    "\n",
    "def happyModel():\n",
    "    \"\"\"\n",
    "    Implements the forward propagation for the binary classification model:\n",
    "    ZEROPAD2D -> CONV2D -> BATCHNORM -> RELU -> MAXPOOL -> FLATTEN -> DENSE\n",
    "    \n",
    "    Note that for simplicity and grading purposes, you'll hard-code all the values\n",
    "    such as the stride and kernel (filter) sizes. \n",
    "    Normally, functions should take these values as function parameters.\n",
    "    \n",
    "    Arguments:\n",
    "    None\n",
    "\n",
    "    Returns:\n",
    "    model -- TF Keras model (object containing the information for the entire training process) \n",
    "    \"\"\"\n",
    "            \n",
    "            # YOUR CODE STARTS HERE\n",
    "            \n",
    "    model = tf.keras.Sequential([\n",
    "            ## ZeroPadding2D with padding 3, input shape of 64 x 64 x 3\n",
    "            tfl.ZeroPadding2D(padding=(3, 3), input_shape=(64, 64, 3)),\n",
    "            ## Conv2D with 32 7x7 filters and stride of 1\n",
    "            tfl.Conv2D(32,(7,7)),\n",
    "            ## BatchNormalization for axis 3\n",
    "            tfl.BatchNormalization(axis=-1),\n",
    "            ## ReLU\n",
    "            tfl.ReLU(),\n",
    "            ## Max Pooling 2D with default parameters\n",
    "            tfl.MaxPool2D(),\n",
    "            ## Flatten layer\n",
    "            tfl.Flatten(),\n",
    "            ## Dense layer with 1 unit for output & 'sigmoid' activation\n",
    "            tfl.Dense(1, activation='sigmoid')\n",
    "        ])\n",
    "\n",
    "            # YOUR CODE ENDS HERE\n",
    "    \n",
    "    return model"
   ]
  },
  {
   "cell_type": "code",
   "execution_count": 6,
   "metadata": {
    "deletable": false,
    "editable": false,
    "nbgrader": {
     "cell_type": "code",
     "checksum": "8d3575c950e2e78149be2d05d671c80d",
     "grade": true,
     "grade_id": "cell-e3e1046e5c33d775",
     "locked": true,
     "points": 10,
     "schema_version": 3,
     "solution": false,
     "task": false
    }
   },
   "outputs": [
    {
     "name": "stdout",
     "output_type": "stream",
     "text": [
      "['ZeroPadding2D', (None, 70, 70, 3), 0, ((3, 3), (3, 3))]\n",
      "['Conv2D', (None, 64, 64, 32), 4736, 'valid', 'linear', 'GlorotUniform']\n",
      "['BatchNormalization', (None, 64, 64, 32), 128]\n",
      "['ReLU', (None, 64, 64, 32), 0]\n",
      "['MaxPooling2D', (None, 32, 32, 32), 0, (2, 2), (2, 2), 'valid']\n",
      "['Flatten', (None, 32768), 0]\n",
      "['Dense', (None, 1), 32769, 'sigmoid']\n",
      "\u001b[32mAll tests passed!\u001b[0m\n"
     ]
    }
   ],
   "source": [
    "happy_model = happyModel()\n",
    "# Print a summary for each layer\n",
    "for layer in summary(happy_model):\n",
    "    print(layer)\n",
    "    \n",
    "output = [['ZeroPadding2D', (None, 70, 70, 3), 0, ((3, 3), (3, 3))],\n",
    "            ['Conv2D', (None, 64, 64, 32), 4736, 'valid', 'linear', 'GlorotUniform'],\n",
    "            ['BatchNormalization', (None, 64, 64, 32), 128],\n",
    "            ['ReLU', (None, 64, 64, 32), 0],\n",
    "            ['MaxPooling2D', (None, 32, 32, 32), 0, (2, 2), (2, 2), 'valid'],\n",
    "            ['Flatten', (None, 32768), 0],\n",
    "            ['Dense', (None, 1), 32769, 'sigmoid']]\n",
    "    \n",
    "comparator(summary(happy_model), output)"
   ]
  },
  {
   "cell_type": "markdown",
   "metadata": {},
   "source": [
    "#### Expected Output:\n",
    "\n",
    "```\n",
    "['ZeroPadding2D', (None, 70, 70, 3), 0, ((3, 3), (3, 3))]\n",
    "['Conv2D', (None, 64, 64, 32), 4736, 'valid', 'linear', 'GlorotUniform']\n",
    "['BatchNormalization', (None, 64, 64, 32), 128]\n",
    "['ReLU', (None, 64, 64, 32), 0]\n",
    "['MaxPooling2D', (None, 32, 32, 32), 0, (2, 2), (2, 2), 'valid']\n",
    "['Flatten', (None, 32768), 0]\n",
    "['Dense', (None, 1), 32769, 'sigmoid']\n",
    "All tests passed!\n",
    "```"
   ]
  },
  {
   "cell_type": "markdown",
   "metadata": {},
   "source": [
    "Now that your model is created, you can compile it for training with an optimizer and loss of your choice. When the string `accuracy` is specified as a metric, the type of accuracy used will be automatically converted based on the loss function used. This is one of the many optimizations built into TensorFlow that make your life easier! If you'd like to read more on how the compiler operates, check the docs [here](https://www.tensorflow.org/api_docs/python/tf/keras/Model#compile)."
   ]
  },
  {
   "cell_type": "code",
   "execution_count": 7,
   "metadata": {},
   "outputs": [],
   "source": [
    "happy_model.compile(optimizer='adam',\n",
    "                   loss='binary_crossentropy',\n",
    "                   metrics=['accuracy'])"
   ]
  },
  {
   "cell_type": "markdown",
   "metadata": {},
   "source": [
    "It's time to check your model's parameters with the `.summary()` method. This will display the types of layers you have, the shape of the outputs, and how many parameters are in each layer. "
   ]
  },
  {
   "cell_type": "code",
   "execution_count": 8,
   "metadata": {},
   "outputs": [
    {
     "name": "stdout",
     "output_type": "stream",
     "text": [
      "Model: \"sequential\"\n",
      "_________________________________________________________________\n",
      "Layer (type)                 Output Shape              Param #   \n",
      "=================================================================\n",
      "zero_padding2d (ZeroPadding2 (None, 70, 70, 3)         0         \n",
      "_________________________________________________________________\n",
      "conv2d (Conv2D)              (None, 64, 64, 32)        4736      \n",
      "_________________________________________________________________\n",
      "batch_normalization (BatchNo (None, 64, 64, 32)        128       \n",
      "_________________________________________________________________\n",
      "re_lu (ReLU)                 (None, 64, 64, 32)        0         \n",
      "_________________________________________________________________\n",
      "max_pooling2d (MaxPooling2D) (None, 32, 32, 32)        0         \n",
      "_________________________________________________________________\n",
      "flatten (Flatten)            (None, 32768)             0         \n",
      "_________________________________________________________________\n",
      "dense (Dense)                (None, 1)                 32769     \n",
      "=================================================================\n",
      "Total params: 37,633\n",
      "Trainable params: 37,569\n",
      "Non-trainable params: 64\n",
      "_________________________________________________________________\n"
     ]
    }
   ],
   "source": [
    "happy_model.summary()"
   ]
  },
  {
   "cell_type": "markdown",
   "metadata": {},
   "source": [
    "<a name='3-2'></a>\n",
    "### 3.2 - Train and Evaluate the Model\n",
    "\n",
    "After creating the model, compiling it with your choice of optimizer and loss function, and doing a sanity check on its contents, you are now ready to build! \n",
    "\n",
    "Simply call `.fit()` to train. That's it! No need for mini-batching, saving, or complex backpropagation computations. That's all been done for you, as you're using a TensorFlow dataset with the batches specified already. You do have the option to specify epoch number or minibatch size if you like (for example, in the case of an un-batched dataset)."
   ]
  },
  {
   "cell_type": "code",
   "execution_count": 9,
   "metadata": {},
   "outputs": [
    {
     "name": "stdout",
     "output_type": "stream",
     "text": [
      "Epoch 1/10\n",
      "38/38 [==============================] - 4s 105ms/step - loss: 1.2571 - accuracy: 0.7017\n",
      "Epoch 2/10\n",
      "38/38 [==============================] - 4s 98ms/step - loss: 0.2815 - accuracy: 0.8950\n",
      "Epoch 3/10\n",
      "38/38 [==============================] - 4s 98ms/step - loss: 0.1689 - accuracy: 0.9283\n",
      "Epoch 4/10\n",
      "38/38 [==============================] - 4s 97ms/step - loss: 0.1676 - accuracy: 0.9450\n",
      "Epoch 5/10\n",
      "38/38 [==============================] - 4s 103ms/step - loss: 0.1185 - accuracy: 0.9567\n",
      "Epoch 6/10\n",
      "38/38 [==============================] - 4s 95ms/step - loss: 0.0883 - accuracy: 0.9783\n",
      "Epoch 7/10\n",
      "38/38 [==============================] - 4s 97ms/step - loss: 0.0526 - accuracy: 0.9850\n",
      "Epoch 8/10\n",
      "38/38 [==============================] - 4s 95ms/step - loss: 0.0575 - accuracy: 0.9850\n",
      "Epoch 9/10\n",
      "38/38 [==============================] - 4s 97ms/step - loss: 0.0894 - accuracy: 0.9733\n",
      "Epoch 10/10\n",
      "38/38 [==============================] - 4s 100ms/step - loss: 0.2001 - accuracy: 0.9333\n"
     ]
    },
    {
     "data": {
      "text/plain": [
       "<tensorflow.python.keras.callbacks.History at 0x7f116721a590>"
      ]
     },
     "execution_count": 9,
     "metadata": {},
     "output_type": "execute_result"
    }
   ],
   "source": [
    "happy_model.fit(X_train, Y_train, epochs=10, batch_size=16)"
   ]
  },
  {
   "cell_type": "markdown",
   "metadata": {},
   "source": [
    "After that completes, just use `.evaluate()` to evaluate against your test set. This function will print the value of the loss function and the performance metrics specified during the compilation of the model. In this case, the `binary_crossentropy` and the `accuracy` respectively."
   ]
  },
  {
   "cell_type": "code",
   "execution_count": 10,
   "metadata": {},
   "outputs": [
    {
     "name": "stdout",
     "output_type": "stream",
     "text": [
      "5/5 [==============================] - 0s 29ms/step - loss: 2.4105 - accuracy: 0.5667\n"
     ]
    },
    {
     "data": {
      "text/plain": [
       "[2.410494565963745, 0.5666666626930237]"
      ]
     },
     "execution_count": 10,
     "metadata": {},
     "output_type": "execute_result"
    }
   ],
   "source": [
    "happy_model.evaluate(X_test, Y_test)"
   ]
  },
  {
   "cell_type": "markdown",
   "metadata": {},
   "source": [
    "Easy, right? But what if you need to build a model with shared layers, branches, or multiple inputs and outputs? This is where Sequential, with its beautifully simple yet limited functionality, won't be able to help you. \n",
    "\n",
    "Next up: Enter the Functional API, your slightly more complex, highly flexible friend.  "
   ]
  },
  {
   "cell_type": "markdown",
   "metadata": {},
   "source": [
    "<a name='4'></a>\n",
    "## 4 - The Functional API"
   ]
  },
  {
   "cell_type": "markdown",
   "metadata": {},
   "source": [
    "Welcome to the second half of the assignment, where you'll use Keras' flexible [Functional API](https://www.tensorflow.org/guide/keras/functional) to build a ConvNet that can differentiate between 6 sign language digits. \n",
    "\n",
    "The Functional API can handle models with non-linear topology, shared layers, as well as layers with multiple inputs or outputs. Imagine that, where the Sequential API requires the model to move in a linear fashion through its layers, the Functional API allows much more flexibility. Where Sequential is a straight line, a Functional model is a graph, where the nodes of the layers can connect in many more ways than one. \n",
    "\n",
    "In the visual example below, the one possible direction of the movement Sequential model is shown in contrast to a skip connection, which is just one of the many ways a Functional model can be constructed. A skip connection, as you might have guessed, skips some layer in the network and feeds the output to a later layer in the network. Don't worry, you'll be spending more time with skip connections very soon! "
   ]
  },
  {
   "cell_type": "markdown",
   "metadata": {},
   "source": [
    "<img src=\"images/seq_vs_func.png\" style=\"width:350px;height:200px;\">"
   ]
  },
  {
   "cell_type": "markdown",
   "metadata": {},
   "source": [
    "<a name='4-1'></a>\n",
    "### 4.1 - Load the SIGNS Dataset\n",
    "\n",
    "As a reminder, the SIGNS dataset is a collection of 6 signs representing numbers from 0 to 5."
   ]
  },
  {
   "cell_type": "code",
   "execution_count": 11,
   "metadata": {},
   "outputs": [],
   "source": [
    "# Loading the data (signs)\n",
    "X_train_orig, Y_train_orig, X_test_orig, Y_test_orig, classes = load_signs_dataset()"
   ]
  },
  {
   "cell_type": "markdown",
   "metadata": {},
   "source": [
    "<img src=\"images/SIGNS.png\" style=\"width:800px;height:300px;\">\n",
    "\n",
    "The next cell will show you an example of a labelled image in the dataset. Feel free to change the value of `index` below and re-run to see different examples. "
   ]
  },
  {
   "cell_type": "code",
   "execution_count": 12,
   "metadata": {},
   "outputs": [
    {
     "name": "stdout",
     "output_type": "stream",
     "text": [
      "y = 4\n"
     ]
    },
    {
     "data": {
      "image/png": "[encoded data removed]",
      "text/plain": [
       "<Figure size 432x288 with 1 Axes>"
      ]
     },
     "metadata": {
      "needs_background": "light"
     },
     "output_type": "display_data"
    }
   ],
   "source": [
    "# Example of an image from the dataset\n",
    "index = 9\n",
    "plt.imshow(X_train_orig[index])\n",
    "print (\"y = \" + str(np.squeeze(Y_train_orig[:, index])))"
   ]
  },
  {
   "cell_type": "markdown",
   "metadata": {},
   "source": [
    "<a name='4-2'></a>\n",
    "### 4.2 - Split the Data into Train/Test Sets\n",
    "\n",
    "In Course 2, you built a fully-connected network for this dataset. But since this is an image dataset, it is more natural to apply a ConvNet to it.\n",
    "\n",
    "To get started, let's examine the shapes of your data. "
   ]
  },
  {
   "cell_type": "code",
   "execution_count": 13,
   "metadata": {},
   "outputs": [
    {
     "name": "stdout",
     "output_type": "stream",
     "text": [
      "number of training examples = 1080\n",
      "number of test examples = 120\n",
      "X_train shape: (1080, 64, 64, 3)\n",
      "Y_train shape: (1080, 6)\n",
      "X_test shape: (120, 64, 64, 3)\n",
      "Y_test shape: (120, 6)\n"
     ]
    }
   ],
   "source": [
    "X_train = X_train_orig/255.\n",
    "X_test = X_test_orig/255.\n",
    "Y_train = convert_to_one_hot(Y_train_orig, 6).T\n",
    "Y_test = convert_to_one_hot(Y_test_orig, 6).T\n",
    "print (\"number of training examples = \" + str(X_train.shape[0]))\n",
    "print (\"number of test examples = \" + str(X_test.shape[0]))\n",
    "print (\"X_train shape: \" + str(X_train.shape))\n",
    "print (\"Y_train shape: \" + str(Y_train.shape))\n",
    "print (\"X_test shape: \" + str(X_test.shape))\n",
    "print (\"Y_test shape: \" + str(Y_test.shape))"
   ]
  },
  {
   "cell_type": "markdown",
   "metadata": {},
   "source": [
    "<a name='4-3'></a>\n",
    "### 4.3 - Forward Propagation\n",
    "\n",
    "In TensorFlow, there are built-in functions that implement the convolution steps for you. By now, you should be familiar with how TensorFlow builds computational graphs. In the [Functional API](https://www.tensorflow.org/guide/keras/functional), you create a graph of layers. This is what allows such great flexibility.\n",
    "\n",
    "However, the following model could also be defined using the Sequential API since the information flow is on a single line. But don't deviate. What we want you to learn is to use the functional API.\n",
    "\n",
    "Begin building your graph of layers by creating an input node that functions as a callable object:\n",
    "\n",
    "- **input_img = tf.keras.Input(shape=input_shape):** \n",
    "\n",
    "Then, create a new node in the graph of layers by calling a layer on the `input_img` object: \n",
    "\n",
    "- **tf.keras.layers.Conv2D(filters= ... , kernel_size= ... , padding='same')(input_img):** Read the full documentation on [Conv2D](https://www.tensorflow.org/api_docs/python/tf/keras/layers/Conv2D).\n",
    "\n",
    "- **tf.keras.layers.MaxPool2D(pool_size=(f, f), strides=(s, s), padding='same'):** `MaxPool2D()` downsamples your input using a window of size (f, f) and strides of size (s, s) to carry out max pooling over each window.  For max pooling, you usually operate on a single example at a time and a single channel at a time. Read the full documentation on [MaxPool2D](https://www.tensorflow.org/api_docs/python/tf/keras/layers/MaxPool2D).\n",
    "\n",
    "- **tf.keras.layers.ReLU():** computes the elementwise ReLU of Z (which can be any shape). You can read the full documentation on [ReLU](https://www.tensorflow.org/api_docs/python/tf/keras/layers/ReLU).\n",
    "\n",
    "- **tf.keras.layers.Flatten()**: given a tensor \"P\", this function takes each training (or test) example in the batch and flattens it into a 1D vector.  \n",
    "\n",
    "    * If a tensor P has the shape (batch_size,h,w,c), it returns a flattened tensor with shape (batch_size, k), where $k=h \\times w \\times c$.  \"k\" equals the product of all the dimension sizes other than the first dimension.\n",
    "    \n",
    "    * For example, given a tensor with dimensions [100, 2, 3, 4], it flattens the tensor to be of shape [100, 24], where 24 = 2 * 3 * 4.  You can read the full documentation on [Flatten](https://www.tensorflow.org/api_docs/python/tf/keras/layers/Flatten).\n",
    "\n",
    "- **tf.keras.layers.Dense(units= ... , activation='softmax')(F):** given the flattened input F, it returns the output computed using a fully connected layer. You can read the full documentation on [Dense](https://www.tensorflow.org/api_docs/python/tf/keras/layers/Dense).\n",
    "\n",
    "In the last function above (`tf.keras.layers.Dense()`), the fully connected layer automatically initializes weights in the graph and keeps on training them as you train the model. Hence, you did not need to initialize those weights when initializing the parameters.\n",
    "\n",
    "Lastly, before creating the model, you'll need to define the output using the last of the function's compositions (in this example, a Dense layer): \n",
    "\n",
    "- **outputs = tf.keras.layers.Dense(units=6, activation='softmax')(F)**\n",
    "\n",
    "\n",
    "#### Window, kernel, filter, pool\n",
    "\n",
    "The words \"kernel\" and \"filter\" are used to refer to the same thing. The word \"filter\" accounts for the amount of \"kernels\" that will be used in a single convolution layer. \"Pool\" is the name of the operation that takes the max or average value of the kernels. \n",
    "\n",
    "This is why the parameter `pool_size` refers to `kernel_size`, and you use `(f,f)` to refer to the filter size. \n",
    "\n",
    "Pool size and kernel size refer to the same thing in different objects - They refer to the shape of the window where the operation takes place. "
   ]
  },
  {
   "cell_type": "markdown",
   "metadata": {},
   "source": [
    "<a name='ex-2'></a>\n",
    "### Exercise 2 - convolutional_model\n",
    "\n",
    "Implement the `convolutional_model` function below to build the following model: `CONV2D -> RELU -> MAXPOOL -> CONV2D -> RELU -> MAXPOOL -> FLATTEN -> DENSE`. Use the functions above! \n",
    "\n",
    "Also, plug in the following parameters for all the steps:\n",
    "\n",
    " - [Conv2D](https://www.tensorflow.org/api_docs/python/tf/keras/layers/Conv2D): Use 8 4 by 4 filters, stride 1, padding is \"SAME\"\n",
    " - [ReLU](https://www.tensorflow.org/api_docs/python/tf/keras/layers/ReLU)\n",
    " - [MaxPool2D](https://www.tensorflow.org/api_docs/python/tf/keras/layers/MaxPool2D): Use an 8 by 8 filter size and an 8 by 8 stride, padding is \"SAME\"\n",
    " - **Conv2D**: Use 16 2 by 2 filters, stride 1, padding is \"SAME\"\n",
    " - **ReLU**\n",
    " - **MaxPool2D**: Use a 4 by 4 filter size and a 4 by 4 stride, padding is \"SAME\"\n",
    " - [Flatten](https://www.tensorflow.org/api_docs/python/tf/keras/layers/Flatten) the previous output.\n",
    " - Fully-connected ([Dense](https://www.tensorflow.org/api_docs/python/tf/keras/layers/Dense)) layer: Apply a fully connected layer with 6 neurons and a softmax activation. "
   ]
  },
  {
   "cell_type": "code",
   "execution_count": 14,
   "metadata": {
    "deletable": false,
    "nbgrader": {
     "cell_type": "code",
     "checksum": "f58643806aa8380c96225fc8b4c5e7aa",
     "grade": false,
     "grade_id": "cell-dac51744a9e03f51",
     "locked": false,
     "schema_version": 3,
     "solution": true,
     "task": false
    }
   },
   "outputs": [],
   "source": [
    "# GRADED FUNCTION: convolutional_model\n",
    "\n",
    "def convolutional_model(input_shape):\n",
    "    \"\"\"\n",
    "    Implements the forward propagation for the model:\n",
    "    CONV2D -> RELU -> MAXPOOL -> CONV2D -> RELU -> MAXPOOL -> FLATTEN -> DENSE\n",
    "    \n",
    "    Note that for simplicity and grading purposes, you'll hard-code some values\n",
    "    such as the stride and kernel (filter) sizes. \n",
    "    Normally, functions should take these values as function parameters.\n",
    "    \n",
    "    Arguments:\n",
    "    input_img -- input dataset, of shape (input_shape)\n",
    "\n",
    "    Returns:\n",
    "    model -- TF Keras model (object containing the information for the entire training process) \n",
    "    \"\"\"\n",
    "\n",
    "    # YOUR CODE STARTS HERE\n",
    "    \n",
    "    input_img = tf.keras.Input(shape=input_shape)\n",
    "    ## CONV2D: 8 filters 4x4, stride of 1, padding 'SAME'\n",
    "    Z1 = tfl.Conv2D(8, 4, activation='linear', padding=\"same\", strides=1)(input_img)\n",
    "    ## RELU\n",
    "    A1 = tfl.ReLU()(Z1)\n",
    "    ## MAXPOOL: window 8x8, stride 8, padding 'SAME'\n",
    "    P1 = tfl.MaxPool2D(pool_size=(8, 8), strides=(8, 8), padding='same')(A1)\n",
    "    ## CONV2D: 16 filters 2x2, stride 1, padding 'SAME'\n",
    "    Z2 = tfl.Conv2D(16, 2, activation='linear', padding=\"same\", strides=1)(P1)\n",
    "    ## RELU\n",
    "    A2 = tfl.ReLU()(Z2)\n",
    "    ## MAXPOOL: window 4x4, stride 4, padding 'SAME'\n",
    "    P2 = tfl.MaxPool2D(pool_size=(4, 4), strides=(4, 4), padding='same')(A2)\n",
    "    ## FLATTEN\n",
    "    F = tfl.Flatten()(P2)\n",
    "    ## Dense layer\n",
    "    ## 6 neurons in output layer. Hint: one of the arguments should be \"activation='softmax'\" \n",
    "    outputs = tfl.Dense(6, activation='softmax')(F)\n",
    "    \n",
    "    # YOUR CODE ENDS HERE\n",
    "    \n",
    "    model = tf.keras.Model(inputs=input_img, outputs=outputs)\n",
    "    \n",
    "    return model"
   ]
  },
  {
   "cell_type": "code",
   "execution_count": 15,
   "metadata": {
    "deletable": false,
    "editable": false,
    "nbgrader": {
     "cell_type": "code",
     "checksum": "483d626949930a0b0ef20997e7c6ba72",
     "grade": true,
     "grade_id": "cell-45d22e92042174c9",
     "locked": true,
     "points": 10,
     "schema_version": 3,
     "solution": false,
     "task": false
    }
   },
   "outputs": [
    {
     "name": "stdout",
     "output_type": "stream",
     "text": [
      "Model: \"functional_1\"\n",
      "_________________________________________________________________\n",
      "Layer (type)                 Output Shape              Param #   \n",
      "=================================================================\n",
      "input_1 (InputLayer)         [(None, 64, 64, 3)]       0         \n",
      "_________________________________________________________________\n",
      "conv2d_1 (Conv2D)            (None, 64, 64, 8)         392       \n",
      "_________________________________________________________________\n",
      "re_lu_1 (ReLU)               (None, 64, 64, 8)         0         \n",
      "_________________________________________________________________\n",
      "max_pooling2d_1 (MaxPooling2 (None, 8, 8, 8)           0         \n",
      "_________________________________________________________________\n",
      "conv2d_2 (Conv2D)            (None, 8, 8, 16)          528       \n",
      "_________________________________________________________________\n",
      "re_lu_2 (ReLU)               (None, 8, 8, 16)          0         \n",
      "_________________________________________________________________\n",
      "max_pooling2d_2 (MaxPooling2 (None, 2, 2, 16)          0         \n",
      "_________________________________________________________________\n",
      "flatten_1 (Flatten)          (None, 64)                0         \n",
      "_________________________________________________________________\n",
      "dense_1 (Dense)              (None, 6)                 390       \n",
      "=================================================================\n",
      "Total params: 1,310\n",
      "Trainable params: 1,310\n",
      "Non-trainable params: 0\n",
      "_________________________________________________________________\n",
      "\u001b[32mAll tests passed!\u001b[0m\n"
     ]
    }
   ],
   "source": [
    "conv_model = convolutional_model((64, 64, 3))\n",
    "conv_model.compile(optimizer='adam',\n",
    "                  loss='categorical_crossentropy',\n",
    "                  metrics=['accuracy'])\n",
    "conv_model.summary()\n",
    "    \n",
    "output = [['InputLayer', [(None, 64, 64, 3)], 0],\n",
    "        ['Conv2D', (None, 64, 64, 8), 392, 'same', 'linear', 'GlorotUniform'],\n",
    "        ['ReLU', (None, 64, 64, 8), 0],\n",
    "        ['MaxPooling2D', (None, 8, 8, 8), 0, (8, 8), (8, 8), 'same'],\n",
    "        ['Conv2D', (None, 8, 8, 16), 528, 'same', 'linear', 'GlorotUniform'],\n",
    "        ['ReLU', (None, 8, 8, 16), 0],\n",
    "        ['MaxPooling2D', (None, 2, 2, 16), 0, (4, 4), (4, 4), 'same'],\n",
    "        ['Flatten', (None, 64), 0],\n",
    "        ['Dense', (None, 6), 390, 'softmax']]\n",
    "    \n",
    "comparator(summary(conv_model), output)"
   ]
  },
  {
   "cell_type": "markdown",
   "metadata": {},
   "source": [
    "Both the Sequential and Functional APIs return a TF Keras model object. The only difference is how inputs are handled inside the object model! "
   ]
  },
  {
   "cell_type": "markdown",
   "metadata": {},
   "source": [
    "<a name='4-4'></a>\n",
    "### 4.4 - Train the Model"
   ]
  },
  {
   "cell_type": "code",
   "execution_count": 16,
   "metadata": {},
   "outputs": [
    {
     "name": "stdout",
     "output_type": "stream",
     "text": [
      "Epoch 1/100\n",
      "17/17 [==============================] - 2s 124ms/step - loss: 1.8249 - accuracy: 0.1963 - val_loss: 1.7915 - val_accuracy: 0.2333\n",
      "Epoch 2/100\n",
      "17/17 [==============================] - 2s 112ms/step - loss: 1.7874 - accuracy: 0.1935 - val_loss: 1.7792 - val_accuracy: 0.1750\n",
      "Epoch 3/100\n",
      "17/17 [==============================] - 2s 111ms/step - loss: 1.7786 - accuracy: 0.2546 - val_loss: 1.7758 - val_accuracy: 0.2833\n",
      "Epoch 4/100\n",
      "17/17 [==============================] - 2s 112ms/step - loss: 1.7747 - accuracy: 0.3176 - val_loss: 1.7722 - val_accuracy: 0.3333\n",
      "Epoch 5/100\n",
      "17/17 [==============================] - 2s 107ms/step - loss: 1.7712 - accuracy: 0.3093 - val_loss: 1.7682 - val_accuracy: 0.3167\n",
      "Epoch 6/100\n",
      "17/17 [==============================] - 2s 112ms/step - loss: 1.7671 - accuracy: 0.3463 - val_loss: 1.7637 - val_accuracy: 0.3583\n",
      "Epoch 7/100\n",
      "17/17 [==============================] - 2s 112ms/step - loss: 1.7625 - accuracy: 0.3435 - val_loss: 1.7590 - val_accuracy: 0.3667\n",
      "Epoch 8/100\n",
      "17/17 [==============================] - 2s 112ms/step - loss: 1.7577 - accuracy: 0.3574 - val_loss: 1.7540 - val_accuracy: 0.3917\n",
      "Epoch 9/100\n",
      "17/17 [==============================] - 2s 111ms/step - loss: 1.7522 - accuracy: 0.3667 - val_loss: 1.7482 - val_accuracy: 0.4083\n",
      "Epoch 10/100\n",
      "17/17 [==============================] - 2s 112ms/step - loss: 1.7456 - accuracy: 0.3935 - val_loss: 1.7408 - val_accuracy: 0.4083\n",
      "Epoch 11/100\n",
      "17/17 [==============================] - 2s 112ms/step - loss: 1.7381 - accuracy: 0.4019 - val_loss: 1.7324 - val_accuracy: 0.4417\n",
      "Epoch 12/100\n",
      "17/17 [==============================] - 2s 112ms/step - loss: 1.7291 - accuracy: 0.4111 - val_loss: 1.7218 - val_accuracy: 0.4667\n",
      "Epoch 13/100\n",
      "17/17 [==============================] - 2s 111ms/step - loss: 1.7183 - accuracy: 0.4139 - val_loss: 1.7100 - val_accuracy: 0.4250\n",
      "Epoch 14/100\n",
      "17/17 [==============================] - 2s 112ms/step - loss: 1.7038 - accuracy: 0.4222 - val_loss: 1.6945 - val_accuracy: 0.4167\n",
      "Epoch 15/100\n",
      "17/17 [==============================] - 2s 106ms/step - loss: 1.6841 - accuracy: 0.4481 - val_loss: 1.6757 - val_accuracy: 0.4667\n",
      "Epoch 16/100\n",
      "17/17 [==============================] - 2s 107ms/step - loss: 1.6596 - accuracy: 0.4685 - val_loss: 1.6518 - val_accuracy: 0.4583\n",
      "Epoch 17/100\n",
      "17/17 [==============================] - 2s 111ms/step - loss: 1.6295 - accuracy: 0.4806 - val_loss: 1.6236 - val_accuracy: 0.4417\n",
      "Epoch 18/100\n",
      "17/17 [==============================] - 2s 107ms/step - loss: 1.5983 - accuracy: 0.4917 - val_loss: 1.5934 - val_accuracy: 0.4417\n",
      "Epoch 19/100\n",
      "17/17 [==============================] - 2s 112ms/step - loss: 1.5640 - accuracy: 0.5120 - val_loss: 1.5616 - val_accuracy: 0.4417\n",
      "Epoch 20/100\n",
      "17/17 [==============================] - 2s 113ms/step - loss: 1.5260 - accuracy: 0.5296 - val_loss: 1.5258 - val_accuracy: 0.4667\n",
      "Epoch 21/100\n",
      "17/17 [==============================] - 2s 112ms/step - loss: 1.4848 - accuracy: 0.5343 - val_loss: 1.4883 - val_accuracy: 0.4833\n",
      "Epoch 22/100\n",
      "17/17 [==============================] - 2s 106ms/step - loss: 1.4442 - accuracy: 0.5407 - val_loss: 1.4474 - val_accuracy: 0.5083\n",
      "Epoch 23/100\n",
      "17/17 [==============================] - 2s 112ms/step - loss: 1.4027 - accuracy: 0.5546 - val_loss: 1.4085 - val_accuracy: 0.5167\n",
      "Epoch 24/100\n",
      "17/17 [==============================] - 2s 112ms/step - loss: 1.3608 - accuracy: 0.5648 - val_loss: 1.3697 - val_accuracy: 0.5250\n",
      "Epoch 25/100\n",
      "17/17 [==============================] - 2s 111ms/step - loss: 1.3218 - accuracy: 0.5759 - val_loss: 1.3317 - val_accuracy: 0.5333\n",
      "Epoch 26/100\n",
      "17/17 [==============================] - 2s 111ms/step - loss: 1.2807 - accuracy: 0.5926 - val_loss: 1.2957 - val_accuracy: 0.5333\n",
      "Epoch 27/100\n",
      "17/17 [==============================] - 2s 112ms/step - loss: 1.2449 - accuracy: 0.5926 - val_loss: 1.2588 - val_accuracy: 0.5583\n",
      "Epoch 28/100\n",
      "17/17 [==============================] - 2s 107ms/step - loss: 1.2048 - accuracy: 0.6139 - val_loss: 1.2271 - val_accuracy: 0.5750\n",
      "Epoch 29/100\n",
      "17/17 [==============================] - 2s 111ms/step - loss: 1.1727 - accuracy: 0.6185 - val_loss: 1.1927 - val_accuracy: 0.5750\n",
      "Epoch 30/100\n",
      "17/17 [==============================] - 2s 112ms/step - loss: 1.1382 - accuracy: 0.6287 - val_loss: 1.1644 - val_accuracy: 0.6167\n",
      "Epoch 31/100\n",
      "17/17 [==============================] - 2s 112ms/step - loss: 1.1084 - accuracy: 0.6389 - val_loss: 1.1320 - val_accuracy: 0.6083\n",
      "Epoch 32/100\n",
      "17/17 [==============================] - 2s 112ms/step - loss: 1.0759 - accuracy: 0.6472 - val_loss: 1.1050 - val_accuracy: 0.6250\n",
      "Epoch 33/100\n",
      "17/17 [==============================] - 2s 106ms/step - loss: 1.0480 - accuracy: 0.6593 - val_loss: 1.0746 - val_accuracy: 0.6417\n",
      "Epoch 34/100\n",
      "17/17 [==============================] - 2s 112ms/step - loss: 1.0187 - accuracy: 0.6750 - val_loss: 1.0495 - val_accuracy: 0.6417\n",
      "Epoch 35/100\n",
      "17/17 [==============================] - 2s 112ms/step - loss: 0.9940 - accuracy: 0.6824 - val_loss: 1.0204 - val_accuracy: 0.6667\n",
      "Epoch 36/100\n",
      "17/17 [==============================] - 2s 112ms/step - loss: 0.9666 - accuracy: 0.6954 - val_loss: 0.9971 - val_accuracy: 0.6917\n",
      "Epoch 37/100\n",
      "17/17 [==============================] - 2s 112ms/step - loss: 0.9434 - accuracy: 0.7083 - val_loss: 0.9709 - val_accuracy: 0.7083\n",
      "Epoch 38/100\n",
      "17/17 [==============================] - 2s 111ms/step - loss: 0.9206 - accuracy: 0.7102 - val_loss: 0.9507 - val_accuracy: 0.7000\n",
      "Epoch 39/100\n",
      "17/17 [==============================] - 2s 112ms/step - loss: 0.8973 - accuracy: 0.7194 - val_loss: 0.9276 - val_accuracy: 0.7083\n",
      "Epoch 40/100\n",
      "17/17 [==============================] - 2s 111ms/step - loss: 0.8745 - accuracy: 0.7343 - val_loss: 0.9044 - val_accuracy: 0.7333\n",
      "Epoch 41/100\n",
      "17/17 [==============================] - 2s 111ms/step - loss: 0.8542 - accuracy: 0.7435 - val_loss: 0.8844 - val_accuracy: 0.7333\n",
      "Epoch 42/100\n",
      "17/17 [==============================] - 2s 112ms/step - loss: 0.8348 - accuracy: 0.7556 - val_loss: 0.8648 - val_accuracy: 0.7333\n",
      "Epoch 43/100\n",
      "17/17 [==============================] - 2s 106ms/step - loss: 0.8162 - accuracy: 0.7648 - val_loss: 0.8461 - val_accuracy: 0.7333\n",
      "Epoch 44/100\n",
      "17/17 [==============================] - 2s 107ms/step - loss: 0.7982 - accuracy: 0.7694 - val_loss: 0.8281 - val_accuracy: 0.7333\n",
      "Epoch 45/100\n",
      "17/17 [==============================] - 2s 111ms/step - loss: 0.7809 - accuracy: 0.7731 - val_loss: 0.8119 - val_accuracy: 0.7500\n",
      "Epoch 46/100\n",
      "17/17 [==============================] - 2s 107ms/step - loss: 0.7642 - accuracy: 0.7769 - val_loss: 0.7959 - val_accuracy: 0.7500\n",
      "Epoch 47/100\n",
      "17/17 [==============================] - 2s 112ms/step - loss: 0.7484 - accuracy: 0.7787 - val_loss: 0.7811 - val_accuracy: 0.7583\n",
      "Epoch 48/100\n",
      "17/17 [==============================] - 2s 107ms/step - loss: 0.7339 - accuracy: 0.7815 - val_loss: 0.7674 - val_accuracy: 0.7750\n",
      "Epoch 49/100\n",
      "17/17 [==============================] - 2s 107ms/step - loss: 0.7200 - accuracy: 0.7833 - val_loss: 0.7548 - val_accuracy: 0.7750\n",
      "Epoch 50/100\n",
      "17/17 [==============================] - 2s 112ms/step - loss: 0.7069 - accuracy: 0.7880 - val_loss: 0.7416 - val_accuracy: 0.7750\n",
      "Epoch 51/100\n",
      "17/17 [==============================] - 2s 112ms/step - loss: 0.6941 - accuracy: 0.7889 - val_loss: 0.7301 - val_accuracy: 0.7833\n",
      "Epoch 52/100\n",
      "17/17 [==============================] - 2s 106ms/step - loss: 0.6822 - accuracy: 0.7954 - val_loss: 0.7183 - val_accuracy: 0.7833\n",
      "Epoch 53/100\n",
      "17/17 [==============================] - 2s 107ms/step - loss: 0.6705 - accuracy: 0.7963 - val_loss: 0.7073 - val_accuracy: 0.7833\n",
      "Epoch 54/100\n",
      "17/17 [==============================] - 2s 107ms/step - loss: 0.6592 - accuracy: 0.8046 - val_loss: 0.6963 - val_accuracy: 0.7833\n",
      "Epoch 55/100\n",
      "17/17 [==============================] - 2s 107ms/step - loss: 0.6485 - accuracy: 0.8120 - val_loss: 0.6853 - val_accuracy: 0.7833\n",
      "Epoch 56/100\n",
      "17/17 [==============================] - 2s 112ms/step - loss: 0.6377 - accuracy: 0.8157 - val_loss: 0.6747 - val_accuracy: 0.7833\n",
      "Epoch 57/100\n",
      "17/17 [==============================] - 2s 112ms/step - loss: 0.6273 - accuracy: 0.8194 - val_loss: 0.6643 - val_accuracy: 0.7917\n",
      "Epoch 58/100\n",
      "17/17 [==============================] - 2s 107ms/step - loss: 0.6176 - accuracy: 0.8222 - val_loss: 0.6540 - val_accuracy: 0.7917\n",
      "Epoch 59/100\n",
      "17/17 [==============================] - 2s 107ms/step - loss: 0.6077 - accuracy: 0.8278 - val_loss: 0.6451 - val_accuracy: 0.7917\n",
      "Epoch 60/100\n",
      "17/17 [==============================] - 2s 111ms/step - loss: 0.5987 - accuracy: 0.8287 - val_loss: 0.6363 - val_accuracy: 0.7917\n",
      "Epoch 61/100\n",
      "17/17 [==============================] - 2s 112ms/step - loss: 0.5897 - accuracy: 0.8296 - val_loss: 0.6284 - val_accuracy: 0.7917\n",
      "Epoch 62/100\n",
      "17/17 [==============================] - 2s 111ms/step - loss: 0.5811 - accuracy: 0.8306 - val_loss: 0.6211 - val_accuracy: 0.7917\n",
      "Epoch 63/100\n",
      "17/17 [==============================] - 2s 107ms/step - loss: 0.5727 - accuracy: 0.8324 - val_loss: 0.6142 - val_accuracy: 0.7917\n",
      "Epoch 64/100\n",
      "17/17 [==============================] - 2s 112ms/step - loss: 0.5647 - accuracy: 0.8343 - val_loss: 0.6065 - val_accuracy: 0.8167\n",
      "Epoch 65/100\n",
      "17/17 [==============================] - 2s 106ms/step - loss: 0.5569 - accuracy: 0.8343 - val_loss: 0.6002 - val_accuracy: 0.8167\n",
      "Epoch 66/100\n",
      "17/17 [==============================] - 2s 112ms/step - loss: 0.5491 - accuracy: 0.8380 - val_loss: 0.5946 - val_accuracy: 0.8167\n",
      "Epoch 67/100\n",
      "17/17 [==============================] - 2s 112ms/step - loss: 0.5421 - accuracy: 0.8417 - val_loss: 0.5889 - val_accuracy: 0.8167\n",
      "Epoch 68/100\n",
      "17/17 [==============================] - 2s 106ms/step - loss: 0.5349 - accuracy: 0.8435 - val_loss: 0.5837 - val_accuracy: 0.8333\n",
      "Epoch 69/100\n",
      "17/17 [==============================] - 2s 106ms/step - loss: 0.5280 - accuracy: 0.8444 - val_loss: 0.5785 - val_accuracy: 0.8333\n",
      "Epoch 70/100\n",
      "17/17 [==============================] - 2s 112ms/step - loss: 0.5217 - accuracy: 0.8481 - val_loss: 0.5736 - val_accuracy: 0.8417\n",
      "Epoch 71/100\n",
      "17/17 [==============================] - 2s 108ms/step - loss: 0.5157 - accuracy: 0.8509 - val_loss: 0.5687 - val_accuracy: 0.8417\n",
      "Epoch 72/100\n",
      "17/17 [==============================] - 2s 112ms/step - loss: 0.5097 - accuracy: 0.8537 - val_loss: 0.5642 - val_accuracy: 0.8417\n",
      "Epoch 73/100\n",
      "17/17 [==============================] - 2s 111ms/step - loss: 0.5041 - accuracy: 0.8546 - val_loss: 0.5598 - val_accuracy: 0.8417\n",
      "Epoch 74/100\n",
      "17/17 [==============================] - 2s 111ms/step - loss: 0.4987 - accuracy: 0.8565 - val_loss: 0.5556 - val_accuracy: 0.8417\n",
      "Epoch 75/100\n",
      "17/17 [==============================] - 2s 113ms/step - loss: 0.4935 - accuracy: 0.8574 - val_loss: 0.5515 - val_accuracy: 0.8417\n",
      "Epoch 76/100\n",
      "17/17 [==============================] - 2s 111ms/step - loss: 0.4882 - accuracy: 0.8593 - val_loss: 0.5477 - val_accuracy: 0.8417\n",
      "Epoch 77/100\n",
      "17/17 [==============================] - 2s 117ms/step - loss: 0.4832 - accuracy: 0.8630 - val_loss: 0.5443 - val_accuracy: 0.8417\n",
      "Epoch 78/100\n",
      "17/17 [==============================] - 2s 113ms/step - loss: 0.4784 - accuracy: 0.8648 - val_loss: 0.5401 - val_accuracy: 0.8417\n",
      "Epoch 79/100\n",
      "17/17 [==============================] - 2s 111ms/step - loss: 0.4735 - accuracy: 0.8657 - val_loss: 0.5370 - val_accuracy: 0.8417\n",
      "Epoch 80/100\n",
      "17/17 [==============================] - 2s 111ms/step - loss: 0.4691 - accuracy: 0.8704 - val_loss: 0.5333 - val_accuracy: 0.8417\n",
      "Epoch 81/100\n",
      "17/17 [==============================] - 2s 112ms/step - loss: 0.4650 - accuracy: 0.8713 - val_loss: 0.5299 - val_accuracy: 0.8417\n",
      "Epoch 82/100\n",
      "17/17 [==============================] - 2s 106ms/step - loss: 0.4609 - accuracy: 0.8731 - val_loss: 0.5268 - val_accuracy: 0.8417\n",
      "Epoch 83/100\n",
      "17/17 [==============================] - 2s 107ms/step - loss: 0.4570 - accuracy: 0.8731 - val_loss: 0.5233 - val_accuracy: 0.8417\n",
      "Epoch 84/100\n",
      "17/17 [==============================] - 2s 106ms/step - loss: 0.4531 - accuracy: 0.8741 - val_loss: 0.5205 - val_accuracy: 0.8500\n",
      "Epoch 85/100\n",
      "17/17 [==============================] - 2s 106ms/step - loss: 0.4494 - accuracy: 0.8769 - val_loss: 0.5181 - val_accuracy: 0.8500\n",
      "Epoch 86/100\n",
      "17/17 [==============================] - 2s 112ms/step - loss: 0.4459 - accuracy: 0.8769 - val_loss: 0.5152 - val_accuracy: 0.8500\n",
      "Epoch 87/100\n",
      "17/17 [==============================] - 2s 111ms/step - loss: 0.4424 - accuracy: 0.8769 - val_loss: 0.5125 - val_accuracy: 0.8583\n",
      "Epoch 88/100\n",
      "17/17 [==============================] - 2s 111ms/step - loss: 0.4390 - accuracy: 0.8778 - val_loss: 0.5107 - val_accuracy: 0.8583\n",
      "Epoch 89/100\n",
      "17/17 [==============================] - 2s 112ms/step - loss: 0.4357 - accuracy: 0.8769 - val_loss: 0.5084 - val_accuracy: 0.8583\n",
      "Epoch 90/100\n",
      "17/17 [==============================] - 2s 106ms/step - loss: 0.4330 - accuracy: 0.8769 - val_loss: 0.5057 - val_accuracy: 0.8583\n",
      "Epoch 91/100\n",
      "17/17 [==============================] - 2s 106ms/step - loss: 0.4299 - accuracy: 0.8759 - val_loss: 0.5039 - val_accuracy: 0.8500\n",
      "Epoch 92/100\n",
      "17/17 [==============================] - 2s 112ms/step - loss: 0.4269 - accuracy: 0.8741 - val_loss: 0.5018 - val_accuracy: 0.8500\n",
      "Epoch 93/100\n",
      "17/17 [==============================] - 2s 112ms/step - loss: 0.4242 - accuracy: 0.8769 - val_loss: 0.5001 - val_accuracy: 0.8417\n",
      "Epoch 94/100\n",
      "17/17 [==============================] - 2s 106ms/step - loss: 0.4213 - accuracy: 0.8796 - val_loss: 0.4988 - val_accuracy: 0.8333\n",
      "Epoch 95/100\n",
      "17/17 [==============================] - 2s 112ms/step - loss: 0.4184 - accuracy: 0.8815 - val_loss: 0.4976 - val_accuracy: 0.8250\n",
      "Epoch 96/100\n",
      "17/17 [==============================] - 2s 106ms/step - loss: 0.4160 - accuracy: 0.8796 - val_loss: 0.4957 - val_accuracy: 0.8250\n",
      "Epoch 97/100\n",
      "17/17 [==============================] - 2s 106ms/step - loss: 0.4135 - accuracy: 0.8815 - val_loss: 0.4947 - val_accuracy: 0.8250\n",
      "Epoch 98/100\n",
      "17/17 [==============================] - 2s 112ms/step - loss: 0.4114 - accuracy: 0.8796 - val_loss: 0.4939 - val_accuracy: 0.8250\n",
      "Epoch 99/100\n",
      "17/17 [==============================] - 2s 106ms/step - loss: 0.4094 - accuracy: 0.8787 - val_loss: 0.4932 - val_accuracy: 0.8250\n",
      "Epoch 100/100\n",
      "17/17 [==============================] - 2s 106ms/step - loss: 0.4071 - accuracy: 0.8796 - val_loss: 0.4932 - val_accuracy: 0.8250\n"
     ]
    }
   ],
   "source": [
    "train_dataset = tf.data.Dataset.from_tensor_slices((X_train, Y_train)).batch(64)\n",
    "test_dataset = tf.data.Dataset.from_tensor_slices((X_test, Y_test)).batch(64)\n",
    "history = conv_model.fit(train_dataset, epochs=100, validation_data=test_dataset)"
   ]
  },
  {
   "cell_type": "markdown",
   "metadata": {},
   "source": [
    "<a name='5'></a>\n",
    "## 5 - History Object \n",
    "\n",
    "The history object is an output of the `.fit()` operation, and provides a record of all the loss and metric values in memory. It's stored as a dictionary that you can retrieve at `history.history`: "
   ]
  },
  {
   "cell_type": "code",
   "execution_count": 17,
   "metadata": {},
   "outputs": [
    {
     "data": {
      "text/plain": [
       "{'loss': [1.8249318599700928,\n",
       "  1.787363886833191,\n",
       "  1.7786017656326294,\n",
       "  1.7747164964675903,\n",
       "  1.771169662475586,\n",
       "  1.7671024799346924,\n",
       "  1.7625490427017212,\n",
       "  1.7577048540115356,\n",
       "  1.7522342205047607,\n",
       "  1.7456119060516357,\n",
       "  1.7381117343902588,\n",
       "  1.7290778160095215,\n",
       "  1.718347430229187,\n",
       "  1.7038021087646484,\n",
       "  1.6841071844100952,\n",
       "  1.6596394777297974,\n",
       "  1.6295477151870728,\n",
       "  1.5982829332351685,\n",
       "  1.5639700889587402,\n",
       "  1.5259976387023926,\n",
       "  1.4847759008407593,\n",
       "  1.444186806678772,\n",
       "  1.402712106704712,\n",
       "  1.360775113105774,\n",
       "  1.3218120336532593,\n",
       "  1.2807177305221558,\n",
       "  1.2448683977127075,\n",
       "  1.2047959566116333,\n",
       "  1.1727204322814941,\n",
       "  1.1382122039794922,\n",
       "  1.1083816289901733,\n",
       "  1.0758683681488037,\n",
       "  1.0479587316513062,\n",
       "  1.018674373626709,\n",
       "  0.9940239787101746,\n",
       "  0.9665963649749756,\n",
       "  0.9434415698051453,\n",
       "  0.9205684661865234,\n",
       "  0.8972794413566589,\n",
       "  0.8744564056396484,\n",
       "  0.8541995286941528,\n",
       "  0.8347581028938293,\n",
       "  0.8161609172821045,\n",
       "  0.7981977462768555,\n",
       "  0.7808815240859985,\n",
       "  0.7642104029655457,\n",
       "  0.7483583092689514,\n",
       "  0.7338991165161133,\n",
       "  0.719984769821167,\n",
       "  0.7069211602210999,\n",
       "  0.6941371560096741,\n",
       "  0.6821688413619995,\n",
       "  0.6705016493797302,\n",
       "  0.6592152714729309,\n",
       "  0.6485046744346619,\n",
       "  0.6377243399620056,\n",
       "  0.6273052096366882,\n",
       "  0.6175702214241028,\n",
       "  0.6076763868331909,\n",
       "  0.5986537337303162,\n",
       "  0.5897242426872253,\n",
       "  0.5811484456062317,\n",
       "  0.5727022290229797,\n",
       "  0.5646675229072571,\n",
       "  0.5569084882736206,\n",
       "  0.5491301417350769,\n",
       "  0.5420964956283569,\n",
       "  0.5348969101905823,\n",
       "  0.5280404686927795,\n",
       "  0.5216798186302185,\n",
       "  0.5157427787780762,\n",
       "  0.5097265243530273,\n",
       "  0.5041105151176453,\n",
       "  0.49868106842041016,\n",
       "  0.493458092212677,\n",
       "  0.48818761110305786,\n",
       "  0.4832431972026825,\n",
       "  0.47840559482574463,\n",
       "  0.4735001027584076,\n",
       "  0.4691413938999176,\n",
       "  0.46504220366477966,\n",
       "  0.46088549494743347,\n",
       "  0.45701977610588074,\n",
       "  0.4530707597732544,\n",
       "  0.4494338035583496,\n",
       "  0.44587066769599915,\n",
       "  0.442425936460495,\n",
       "  0.4390435814857483,\n",
       "  0.43573909997940063,\n",
       "  0.4330008327960968,\n",
       "  0.4299324154853821,\n",
       "  0.42691829800605774,\n",
       "  0.424191415309906,\n",
       "  0.4213414192199707,\n",
       "  0.4183807969093323,\n",
       "  0.4160100221633911,\n",
       "  0.41353172063827515,\n",
       "  0.41135174036026,\n",
       "  0.4094192385673523,\n",
       "  0.4070836007595062],\n",
       " 'accuracy': [0.19629628956317902,\n",
       "  0.1935185194015503,\n",
       "  0.25462964177131653,\n",
       "  0.317592591047287,\n",
       "  0.3092592656612396,\n",
       "  0.3462963104248047,\n",
       "  0.34351852536201477,\n",
       "  0.35740742087364197,\n",
       "  0.36666667461395264,\n",
       "  0.39351850748062134,\n",
       "  0.4018518626689911,\n",
       "  0.41111111640930176,\n",
       "  0.4138889014720917,\n",
       "  0.42222222685813904,\n",
       "  0.4481481611728668,\n",
       "  0.46851852536201477,\n",
       "  0.48055556416511536,\n",
       "  0.49166667461395264,\n",
       "  0.5120370388031006,\n",
       "  0.529629647731781,\n",
       "  0.5342592597007751,\n",
       "  0.5407407283782959,\n",
       "  0.5546296238899231,\n",
       "  0.5648148059844971,\n",
       "  0.5759259462356567,\n",
       "  0.5925925970077515,\n",
       "  0.5925925970077515,\n",
       "  0.6138888597488403,\n",
       "  0.6185185313224792,\n",
       "  0.6287037134170532,\n",
       "  0.6388888955116272,\n",
       "  0.6472222208976746,\n",
       "  0.6592592597007751,\n",
       "  0.675000011920929,\n",
       "  0.6824073791503906,\n",
       "  0.6953703761100769,\n",
       "  0.7083333134651184,\n",
       "  0.710185170173645,\n",
       "  0.7194444537162781,\n",
       "  0.7342592477798462,\n",
       "  0.7435185313224792,\n",
       "  0.7555555701255798,\n",
       "  0.7648147940635681,\n",
       "  0.769444465637207,\n",
       "  0.7731481194496155,\n",
       "  0.7768518328666687,\n",
       "  0.7787036895751953,\n",
       "  0.7814815044403076,\n",
       "  0.7833333611488342,\n",
       "  0.7879629731178284,\n",
       "  0.7888888716697693,\n",
       "  0.7953703999519348,\n",
       "  0.7962962985038757,\n",
       "  0.8046296238899231,\n",
       "  0.8120370507240295,\n",
       "  0.8157407641410828,\n",
       "  0.8194444179534912,\n",
       "  0.8222222328186035,\n",
       "  0.8277778029441833,\n",
       "  0.8287037014961243,\n",
       "  0.8296296000480652,\n",
       "  0.8305555582046509,\n",
       "  0.8324074149131775,\n",
       "  0.8342592716217041,\n",
       "  0.8342592716217041,\n",
       "  0.8379629850387573,\n",
       "  0.8416666388511658,\n",
       "  0.8435184955596924,\n",
       "  0.8444444537162781,\n",
       "  0.8481481671333313,\n",
       "  0.8509259223937988,\n",
       "  0.8537036776542664,\n",
       "  0.854629635810852,\n",
       "  0.8564814925193787,\n",
       "  0.8574073910713196,\n",
       "  0.8592592477798462,\n",
       "  0.8629629611968994,\n",
       "  0.864814817905426,\n",
       "  0.8657407164573669,\n",
       "  0.8703703880310059,\n",
       "  0.8712962865829468,\n",
       "  0.8731481432914734,\n",
       "  0.8731481432914734,\n",
       "  0.8740741014480591,\n",
       "  0.8768518567085266,\n",
       "  0.8768518567085266,\n",
       "  0.8768518567085266,\n",
       "  0.8777777552604675,\n",
       "  0.8768518567085266,\n",
       "  0.8768518567085266,\n",
       "  0.8759258985519409,\n",
       "  0.8740741014480591,\n",
       "  0.8768518567085266,\n",
       "  0.8796296119689941,\n",
       "  0.8814814686775208,\n",
       "  0.8796296119689941,\n",
       "  0.8814814686775208,\n",
       "  0.8796296119689941,\n",
       "  0.8787037134170532,\n",
       "  0.8796296119689941],\n",
       " 'val_loss': [1.791475772857666,\n",
       "  1.7792439460754395,\n",
       "  1.7757540941238403,\n",
       "  1.7721631526947021,\n",
       "  1.7682216167449951,\n",
       "  1.7637194395065308,\n",
       "  1.7589600086212158,\n",
       "  1.7539668083190918,\n",
       "  1.748245358467102,\n",
       "  1.740840196609497,\n",
       "  1.7323768138885498,\n",
       "  1.7218459844589233,\n",
       "  1.7100188732147217,\n",
       "  1.6944984197616577,\n",
       "  1.6756939888000488,\n",
       "  1.6517789363861084,\n",
       "  1.6236228942871094,\n",
       "  1.5934021472930908,\n",
       "  1.5616462230682373,\n",
       "  1.5258198976516724,\n",
       "  1.4882893562316895,\n",
       "  1.4473726749420166,\n",
       "  1.408457636833191,\n",
       "  1.3696918487548828,\n",
       "  1.3317424058914185,\n",
       "  1.2957422733306885,\n",
       "  1.2588030099868774,\n",
       "  1.2271349430084229,\n",
       "  1.1926945447921753,\n",
       "  1.1644091606140137,\n",
       "  1.131981611251831,\n",
       "  1.1049895286560059,\n",
       "  1.0746062994003296,\n",
       "  1.049451231956482,\n",
       "  1.020424485206604,\n",
       "  0.9971010684967041,\n",
       "  0.9709415435791016,\n",
       "  0.950680136680603,\n",
       "  0.9275520443916321,\n",
       "  0.9043846130371094,\n",
       "  0.8844038844108582,\n",
       "  0.8648430109024048,\n",
       "  0.8460630774497986,\n",
       "  0.8281010389328003,\n",
       "  0.8118650913238525,\n",
       "  0.7958662509918213,\n",
       "  0.7811480164527893,\n",
       "  0.767435610294342,\n",
       "  0.7547547817230225,\n",
       "  0.7415837645530701,\n",
       "  0.7301328182220459,\n",
       "  0.7183403372764587,\n",
       "  0.7072519659996033,\n",
       "  0.6962855458259583,\n",
       "  0.6853458285331726,\n",
       "  0.6747089624404907,\n",
       "  0.6643111109733582,\n",
       "  0.6539953947067261,\n",
       "  0.6451309323310852,\n",
       "  0.6363111734390259,\n",
       "  0.6284191012382507,\n",
       "  0.621137797832489,\n",
       "  0.6141718626022339,\n",
       "  0.6065254211425781,\n",
       "  0.6002486944198608,\n",
       "  0.5946274995803833,\n",
       "  0.5888767242431641,\n",
       "  0.5837445855140686,\n",
       "  0.5785011649131775,\n",
       "  0.5736303925514221,\n",
       "  0.56868577003479,\n",
       "  0.564190685749054,\n",
       "  0.559763491153717,\n",
       "  0.5555744171142578,\n",
       "  0.5515130162239075,\n",
       "  0.5476635098457336,\n",
       "  0.5442733764648438,\n",
       "  0.5401143431663513,\n",
       "  0.5369659662246704,\n",
       "  0.5333302021026611,\n",
       "  0.5299316644668579,\n",
       "  0.5267860293388367,\n",
       "  0.5233379006385803,\n",
       "  0.5204790830612183,\n",
       "  0.5180925726890564,\n",
       "  0.5152217745780945,\n",
       "  0.5125306844711304,\n",
       "  0.5106786489486694,\n",
       "  0.5084346532821655,\n",
       "  0.5056777596473694,\n",
       "  0.5039385557174683,\n",
       "  0.5018420219421387,\n",
       "  0.5000866651535034,\n",
       "  0.4987868368625641,\n",
       "  0.4975973665714264,\n",
       "  0.4957292675971985,\n",
       "  0.4947398006916046,\n",
       "  0.49392932653427124,\n",
       "  0.49324971437454224,\n",
       "  0.4931548833847046],\n",
       " 'val_accuracy': [0.23333333432674408,\n",
       "  0.17499999701976776,\n",
       "  0.28333333134651184,\n",
       "  0.3333333432674408,\n",
       "  0.3166666626930237,\n",
       "  0.3583333194255829,\n",
       "  0.36666667461395264,\n",
       "  0.3916666805744171,\n",
       "  0.40833333134651184,\n",
       "  0.40833333134651184,\n",
       "  0.4416666626930237,\n",
       "  0.46666666865348816,\n",
       "  0.42500001192092896,\n",
       "  0.4166666567325592,\n",
       "  0.46666666865348816,\n",
       "  0.4583333432674408,\n",
       "  0.4416666626930237,\n",
       "  0.4416666626930237,\n",
       "  0.4416666626930237,\n",
       "  0.46666666865348816,\n",
       "  0.4833333194255829,\n",
       "  0.5083333253860474,\n",
       "  0.5166666507720947,\n",
       "  0.5249999761581421,\n",
       "  0.5333333611488342,\n",
       "  0.5333333611488342,\n",
       "  0.5583333373069763,\n",
       "  0.574999988079071,\n",
       "  0.574999988079071,\n",
       "  0.6166666746139526,\n",
       "  0.6083333492279053,\n",
       "  0.625,\n",
       "  0.6416666507720947,\n",
       "  0.6416666507720947,\n",
       "  0.6666666865348816,\n",
       "  0.6916666626930237,\n",
       "  0.7083333134651184,\n",
       "  0.699999988079071,\n",
       "  0.7083333134651184,\n",
       "  0.7333333492279053,\n",
       "  0.7333333492279053,\n",
       "  0.7333333492279053,\n",
       "  0.7333333492279053,\n",
       "  0.7333333492279053,\n",
       "  0.75,\n",
       "  0.75,\n",
       "  0.7583333253860474,\n",
       "  0.7749999761581421,\n",
       "  0.7749999761581421,\n",
       "  0.7749999761581421,\n",
       "  0.7833333611488342,\n",
       "  0.7833333611488342,\n",
       "  0.7833333611488342,\n",
       "  0.7833333611488342,\n",
       "  0.7833333611488342,\n",
       "  0.7833333611488342,\n",
       "  0.7916666865348816,\n",
       "  0.7916666865348816,\n",
       "  0.7916666865348816,\n",
       "  0.7916666865348816,\n",
       "  0.7916666865348816,\n",
       "  0.7916666865348816,\n",
       "  0.7916666865348816,\n",
       "  0.8166666626930237,\n",
       "  0.8166666626930237,\n",
       "  0.8166666626930237,\n",
       "  0.8166666626930237,\n",
       "  0.8333333134651184,\n",
       "  0.8333333134651184,\n",
       "  0.8416666388511658,\n",
       "  0.8416666388511658,\n",
       "  0.8416666388511658,\n",
       "  0.8416666388511658,\n",
       "  0.8416666388511658,\n",
       "  0.8416666388511658,\n",
       "  0.8416666388511658,\n",
       "  0.8416666388511658,\n",
       "  0.8416666388511658,\n",
       "  0.8416666388511658,\n",
       "  0.8416666388511658,\n",
       "  0.8416666388511658,\n",
       "  0.8416666388511658,\n",
       "  0.8416666388511658,\n",
       "  0.8500000238418579,\n",
       "  0.8500000238418579,\n",
       "  0.8500000238418579,\n",
       "  0.8583333492279053,\n",
       "  0.8583333492279053,\n",
       "  0.8583333492279053,\n",
       "  0.8583333492279053,\n",
       "  0.8500000238418579,\n",
       "  0.8500000238418579,\n",
       "  0.8416666388511658,\n",
       "  0.8333333134651184,\n",
       "  0.824999988079071,\n",
       "  0.824999988079071,\n",
       "  0.824999988079071,\n",
       "  0.824999988079071,\n",
       "  0.824999988079071,\n",
       "  0.824999988079071]}"
      ]
     },
     "execution_count": 17,
     "metadata": {},
     "output_type": "execute_result"
    }
   ],
   "source": [
    "history.history"
   ]
  },
  {
   "cell_type": "markdown",
   "metadata": {},
   "source": [
    "Now visualize the loss over time using `history.history`: "
   ]
  },
  {
   "cell_type": "code",
   "execution_count": 18,
   "metadata": {},
   "outputs": [
    {
     "data": {
      "text/plain": [
       "[Text(0, 0.5, 'Accuracy'), Text(0.5, 0, 'Epoch')]"
      ]
     },
     "execution_count": 18,
     "metadata": {},
     "output_type": "execute_result"
    },
    {
     "data": {
      "image/png": "[encoded data removed]",
      "text/plain": [
       "<Figure size 864x576 with 1 Axes>"
      ]
     },
     "metadata": {
      "needs_background": "light"
     },
     "output_type": "display_data"
    },
    {
     "data": {
      "image/png": "[encoded data removed]",
      "text/plain": [
       "<Figure size 864x576 with 1 Axes>"
      ]
     },
     "metadata": {
      "needs_background": "light"
     },
     "output_type": "display_data"
    }
   ],
   "source": [
    "# The history.history[\"loss\"] entry is a dictionary with as many values as epochs that the\n",
    "# model was trained on. \n",
    "df_loss_acc = pd.DataFrame(history.history)\n",
    "df_loss= df_loss_acc[['loss','val_loss']]\n",
    "df_loss.rename(columns={'loss':'train','val_loss':'validation'},inplace=True)\n",
    "df_acc= df_loss_acc[['accuracy','val_accuracy']]\n",
    "df_acc.rename(columns={'accuracy':'train','val_accuracy':'validation'},inplace=True)\n",
    "df_loss.plot(title='Model loss',figsize=(12,8)).set(xlabel='Epoch',ylabel='Loss')\n",
    "df_acc.plot(title='Model Accuracy',figsize=(12,8)).set(xlabel='Epoch',ylabel='Accuracy')"
   ]
  },
  {
   "cell_type": "markdown",
   "metadata": {},
   "source": [
    "**Congratulations**! You've finished the assignment and built two models: One that recognizes  smiles, and another that recognizes SIGN language with almost 80% accuracy on the test set. In addition to that, you now also understand the applications of two Keras APIs: Sequential and Functional. Nicely done! \n",
    "\n",
    "By now, you know a bit about how the Functional API works and may have glimpsed the possibilities. In your next assignment, you'll really get a feel for its power when you get the opportunity to build a very deep ConvNet, using ResNets! "
   ]
  },
  {
   "cell_type": "markdown",
   "metadata": {},
   "source": [
    "<a name='6'></a>\n",
    "## 6 - Bibliography\n",
    "\n",
    "You're always encouraged to read the official documentation. To that end, you can find the docs for the Sequential and Functional APIs here: \n",
    "\n",
    "https://www.tensorflow.org/guide/keras/sequential_model\n",
    "\n",
    "https://www.tensorflow.org/guide/keras/functional"
   ]
  }
 ],
 "metadata": {
  "coursera": {
   "course_slug": "convolutional-neural-networks",
   "graded_item_id": "bwbJV",
   "launcher_item_id": "0TkXB"
  },
  "kernelspec": {
   "display_name": "Python 3",
   "language": "python",
   "name": "python3"
  },
  "language_info": {
   "codemirror_mode": {
    "name": "ipython",
    "version": 3
   },
   "file_extension": ".py",
   "mimetype": "text/x-python",
   "name": "python",
   "nbconvert_exporter": "python",
   "pygments_lexer": "ipython3",
   "version": "3.7.6"
  }
 },
 "nbformat": 4,
 "nbformat_minor": 2
}
